{
 "cells": [
  {
   "cell_type": "code",
   "execution_count": 1,
   "id": "7e7b2705",
   "metadata": {},
   "outputs": [
    {
     "name": "stderr",
     "output_type": "stream",
     "text": [
      "<>:13: SyntaxWarning: \"is not\" with a literal. Did you mean \"!=\"?\n",
      "<>:13: SyntaxWarning: \"is not\" with a literal. Did you mean \"!=\"?\n",
      "C:\\Users\\LENOVO\\AppData\\Local\\Temp\\ipykernel_25504\\1458639332.py:13: SyntaxWarning: \"is not\" with a literal. Did you mean \"!=\"?\n",
      "  if data is not '':\n"
     ]
    },
    {
     "name": "stdout",
     "output_type": "stream",
     "text": [
      "['57.18', '208', '29']\n",
      "['263.03', '226', '30']\n",
      "['238.96', '239', '31']\n",
      "['233.15', '249', '32']\n",
      "['233.98', '256', '32']\n",
      "['238.96', '261', '32']\n",
      "['246.43', '266', '33']\n",
      "['233.15', '269', '33']\n",
      "['233.15', '270', '33']\n",
      "['259.71', '271', '33']\n",
      "['225.68', '270', '33']\n"
     ]
    }
   ],
   "source": [
    "import serial\n",
    "import time\n",
    "import csv\n",
    "import pandas as pd\n",
    "sensor_data=[]\n",
    "com = \"COM3\"\n",
    "baud = 9600\n",
    "x = serial.Serial(com, baud, timeout = 1)\n",
    "count=0\n",
    "while True:\n",
    "    \n",
    "    data = str(x.readline().decode('utf-8')).rstrip()\n",
    "    if data is not '':\n",
    "\n",
    "        data=data.split(\",\")\n",
    "        print(data)\n",
    "        sensor_data.append([float(data[0]),int(data[1]),int(data[2])])\n",
    "\n",
    "        count=count+1\n",
    "    \n",
    "    if count>100:\n",
    "        break"
   ]
  },
  {
   "cell_type": "code",
   "execution_count": 2,
   "id": "30371363",
   "metadata": {},
   "outputs": [],
   "source": [
    "df=pd.DataFrame(sensor_data,columns=['data1','data2','data3'])"
   ]
  },
  {
   "cell_type": "code",
   "execution_count": null,
   "id": "9df906d4",
   "metadata": {},
   "outputs": [],
   "source": [
    "df.to_csv('data.csv')"
   ]
  }
 ],
 "metadata": {
  "kernelspec": {
   "display_name": "Python 3 (ipykernel)",
   "language": "python",
   "name": "python3"
  },
  "language_info": {
   "codemirror_mode": {
    "name": "ipython",
    "version": 3
   },
   "file_extension": ".py",
   "mimetype": "text/x-python",
   "name": "python",
   "nbconvert_exporter": "python",
   "pygments_lexer": "ipython3",
   "version": "3.9.16"
  }
 },
 "nbformat": 4,
 "nbformat_minor": 5
}
